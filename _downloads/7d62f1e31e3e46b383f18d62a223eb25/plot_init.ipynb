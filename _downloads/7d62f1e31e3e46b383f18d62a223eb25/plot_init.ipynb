{
  "cells": [
    {
      "cell_type": "code",
      "execution_count": null,
      "metadata": {
        "collapsed": false
      },
      "outputs": [],
      "source": [
        "%matplotlib inline"
      ]
    },
    {
      "cell_type": "markdown",
      "metadata": {},
      "source": [
        "\n# Placeholder\n"
      ]
    },
    {
      "cell_type": "code",
      "execution_count": null,
      "metadata": {
        "collapsed": false
      },
      "outputs": [],
      "source": [
        "import torch\nfrom ksddescent import ksdd_lbfgs\nimport matplotlib.pyplot as plt\nimport numpy as np\n\n\n\n\ndef make_mog(centers, vars, weights):\n    weights = torch.tensor(weights)\n    weights /= weights.sum()\n    def score(x):\n        den = 0\n        top = 0\n        for center, var, weight in zip(centers, vars, weights):\n            exp = torch.exp(-.5 * ((x - center) ** 2).sum(axis=1) / var)\n            den += weight * exp\n            top += weight * exp[:, None] * (x - center)/ var\n        return - top / den[:, None]\n\n    def potential(x):\n        op = 0.\n        for center, var, weight in zip(centers, vars, weights):\n            exp = torch.exp(-.5 * ((x - center) ** 2).sum(axis=1) / var)\n            op += weight * exp\n        return torch.log(op)\n\n    def sampler(n_samples):\n        x = []\n        for c, v, w in zip(centers, vars, weights):\n            z = torch.randn(int(n_samples * w), 2)\n            z *= np.sqrt(v)\n            z += c\n            x.append(z.clone())\n        return torch.cat(x)\n    return score, potential, sampler\n\n\n\n\nvar = .3\nfac = 1\ncenters = [torch.tensor([-1, 0]), torch.tensor([1, 0.])]\n# centers = [torch.tensor([0., 1.]), torch.tensor([0., -1])]\nvariances = [var, var]\nweights = [.5, .5]\nscore, potential, sampler = make_mog(centers, variances, weights)\n\nn_samples = 50\np = 2\n\n\n\nx = .1 * torch.randn(n_samples, p)\nx[:, 0] -= 2\nx0 = x\nbw = .1\nx_ksd0, ksd_traj0, _ = ksdd_lbfgs(x.clone(), score, bw=bw, store=True)\nx1 = .5 * torch.randn(n_samples, p)\n\nx_ksd, ksd_traj, _ = ksdd_lbfgs(x1.clone(), score, bw=bw, store=True)\n\nlabels = ['KSD', 'KSD']\nmethods = ['init1', 'init2']\ncolors = ['blue', 'blue']\nfor x_final, x_init, label, color, method in zip([x_ksd, x_ksd0],\n                                               [x1, x0],\n                                               labels, colors, methods):\n    plt.figure(figsize = (3, 2))\n    # plt.plot(traj[:, :, 0], traj[:, :, 1], c='k', alpha=.2, linewidth=.5)\n    s = 2\n    plt.scatter(x_init[:, 0], x_init[:, 1], s=.3, color='green', marker='x')\n\n    x_final = x_final.detach()\n    plt.scatter(x_final[:, 0], x_final[:, 1], label=label, s=s, c=color)\n    # plt.legend()\n\n    x_ = np.linspace(-2, 2)\n    y_ = np.linspace(-1.5, 1.5)\n    X, Y = np.meshgrid(x_, y_)\n    XX = torch.tensor(np.array([X.ravel(), Y.ravel()]).T)\n    Z = potential(XX).reshape(X.shape).detach().numpy()\n    plt.contour(X, Y, Z, levels=5, colors='k')\n\n    x_ = np.linspace(min(x_), max(x_), 20)\n    y_ = np.linspace(min(y_), max(y_), 20)\n    X, Y = np.meshgrid(x_, y_)\n    XX = torch.tensor(np.array([X.ravel(), Y.ravel()]).T)\n    score_z  = score(XX)\n    u = score_z[:, 0].reshape(X.shape).detach().numpy()\n    v = score_z[:, 1].reshape(X.shape).detach().numpy()\n    plt.quiver(X, Y, u, v, color='red', alpha=.2)\n\n    plt.tick_params(axis='both', which='both', bottom=False, top=False,\n                    labelbottom=False, left=False, right=False, labelleft=False)\n    plt.xlim(min(x_), max(x_))\n    plt.ylim(min(y_), max(y_))\n    plt.show()"
      ]
    }
  ],
  "metadata": {
    "kernelspec": {
      "display_name": "Python 3",
      "language": "python",
      "name": "python3"
    },
    "language_info": {
      "codemirror_mode": {
        "name": "ipython",
        "version": 3
      },
      "file_extension": ".py",
      "mimetype": "text/x-python",
      "name": "python",
      "nbconvert_exporter": "python",
      "pygments_lexer": "ipython3",
      "version": "3.8.1"
    }
  },
  "nbformat": 4,
  "nbformat_minor": 0
}