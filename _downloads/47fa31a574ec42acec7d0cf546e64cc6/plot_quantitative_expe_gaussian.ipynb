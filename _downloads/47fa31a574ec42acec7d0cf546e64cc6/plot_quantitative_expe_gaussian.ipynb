{
  "cells": [
    {
      "cell_type": "code",
      "execution_count": null,
      "metadata": {
        "collapsed": false
      },
      "outputs": [],
      "source": [
        "%matplotlib inline"
      ]
    },
    {
      "cell_type": "markdown",
      "metadata": {},
      "source": [
        "\n# Convergence speed of different methods\n"
      ]
    },
    {
      "cell_type": "code",
      "execution_count": null,
      "metadata": {
        "collapsed": false
      },
      "outputs": [],
      "source": [
        "# Author: Pierre Ablin <pierre.ablin@ens.fr>\n#\n# License: MIT\n\nimport torch\nfrom ksddescent import ksdd_lbfgs\nfrom ksddescent.contenders import svgd\nfrom ksddescent.kernels import gaussian_stein_kernel_single\nimport matplotlib.pyplot as plt\nimport numpy as np\nfrom time import time\nfrom scipy.stats import entropy\n\n\ndef average_curves(times, values):\n    times = np.array(times)\n    t_max = np.max(times)\n    time_grid = np.linspace(0, t_max, 200)\n    interp_values = [\n        np.interp(time_grid, np.linspace(0, time, len(value)), value)\n        for time, value in zip(times, values)\n    ]\n    return time_grid, np.median(interp_values, axis=0)\n\n\ndef score(x):\n    return -x\n\n\ndef sampler(n_points):\n    return torch.randn(n_points, 1)\n\n\ndef kl(x, true_samples, bins=None):\n    n_samples = x.shape\n    if bins is None:\n        bins = int(np.sqrt(n_samples))\n    hist_x, bins = np.histogram(x, bins=bins, density=False)\n    hist_samples, _ = np.histogram(true_samples, bins=bins, density=False)\n    return entropy(hist_x, hist_samples)\n\n\ndef ksd(x, bw):\n    K = gaussian_stein_kernel_single(x, score(x), bw)\n    return K.mean().item() / bw\n\n\np = 1\n\n\ndef one_expe(n_samples, bw, step_svgd, step_mmd):\n    x = 0.1 * torch.randn(n_samples, p) + torch.randn(p)\n    max_iter = 1000\n    max_iter = 1000\n    t0 = time()\n    ksdd_lbfgs(x, score, bw=bw, kernel=\"gaussian\", max_iter=max_iter)\n    t_ksd = time() - t0\n    _, traj_ksd, _ = ksdd_lbfgs(\n        x, score, bw=bw, kernel=\"gaussian\", store=True, max_iter=max_iter\n    )\n    t_svgds = []\n    traj_svgds = []\n    for step in step_svgd:\n        print(step)\n        t0 = time()\n        svgd(x, score, step, max_iter=max_iter, bw=bw, verbose=True)\n        t_svgd = time() - t0\n        t_svgds.append(t_svgd)\n        _, traj_svgd, _ = svgd(\n            x, score, step, max_iter=max_iter, bw=bw, store=True\n        )\n        traj_svgds.append(traj_svgd)\n    true_samples = sampler(10000)\n    kl_ksd = [kl(x[:, 0], true_samples) for x in traj_ksd]\n    kl_svgd = np.array(\n        [\n            [kl(x[:, 0], true_samples) for x in traj_svgd]\n            for traj_svgd in traj_svgds\n        ]\n    )\n    ksd_ksd = [ksd(x, bw) for x in traj_ksd]\n    ksd_svgd = np.array(\n        [[ksd(x, bw) for x in traj_svgd] for traj_svgd in traj_svgds]\n    )\n    return kl_ksd, kl_svgd, t_ksd, t_svgds, ksd_ksd, ksd_svgd\n\n\nbw = 0.1\nn_samples = 30\nn_expes = 2\ntime_list = []\nsteps_svgd = [0.01, 0.1, 10]\nstep_mmd = 0.01\noutputs = [\n    one_expe(n_samples, bw, steps_svgd, step_mmd) for _ in range(n_expes)\n]\n\nkl_dict = {}\nkl_dict[\"ksd\"] = [op[0] for op in outputs]\nkl_dict[\"svgd\"] = {}\nfor i, step in enumerate(steps_svgd):\n    kl_dict[\"svgd\"][step] = [op[1][i] for op in outputs]\n\nksd_dict = {}\nksd_dict[\"ksd\"] = [op[4] for op in outputs]\nksd_dict[\"svgd\"] = {}\nfor i, step in enumerate(steps_svgd):\n    ksd_dict[\"svgd\"][step] = [op[5][i] for op in outputs]\ntimes_ksds = np.array([op[2] for op in outputs])\ntimes_svgds_list = np.array([op[3] for op in outputs]).T\n\ntiming = True\n\n\nf, axes = plt.subplots(1, 2)\n\nfor to_plot_dict, title, axe in [\n    (kl_dict, \"KL\", axes[0]),\n    (ksd_dict, r\"KSD\", axes[1]),\n]:\n    t_avg_ksd, plot_ksd = average_curves(times_ksds, to_plot_dict[\"ksd\"])\n    lw = 2\n    axe.plot(t_avg_ksd, plot_ksd, color=\"blue\", label=\"KSD\", linewidth=lw)\n\n    for step, times_svgds, label, color in zip(\n        steps_svgd,\n        times_svgds_list,\n        [\"SVGD, small step\", \"SVGD, good step\", \"SVGD, big step\"],\n        [\"green\", \"orange\", \"red\"],\n    ):\n        t_avg_svgd, plot_svgd = average_curves(\n            times_svgds, to_plot_dict[\"svgd\"][step]\n        )\n        axe.plot(t_avg_svgd, plot_svgd, color=color, label=label, linewidth=lw)\n    axe.set_yscale(\"log\")\n    x_ = axe.set_xlabel(\"Time (s.)\")\n    y_ = axe.set_ylabel(title)\n    axe.grid()\nplt.subplots_adjust(wspace=0.4)\nplt.legend()\nplt.show()"
      ]
    }
  ],
  "metadata": {
    "kernelspec": {
      "display_name": "Python 3",
      "language": "python",
      "name": "python3"
    },
    "language_info": {
      "codemirror_mode": {
        "name": "ipython",
        "version": 3
      },
      "file_extension": ".py",
      "mimetype": "text/x-python",
      "name": "python",
      "nbconvert_exporter": "python",
      "pygments_lexer": "ipython3",
      "version": "3.8.1"
    }
  },
  "nbformat": 4,
  "nbformat_minor": 0
}