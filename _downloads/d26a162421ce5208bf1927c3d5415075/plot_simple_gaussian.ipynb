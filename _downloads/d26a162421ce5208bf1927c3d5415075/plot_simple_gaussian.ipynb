{
  "cells": [
    {
      "cell_type": "code",
      "execution_count": null,
      "metadata": {
        "collapsed": false
      },
      "outputs": [],
      "source": [
        "%matplotlib inline"
      ]
    },
    {
      "cell_type": "markdown",
      "metadata": {},
      "source": [
        "\n# Different algorithms on a Gaussian\n"
      ]
    },
    {
      "cell_type": "code",
      "execution_count": null,
      "metadata": {
        "collapsed": false
      },
      "outputs": [],
      "source": [
        "import torch\nimport math\nfrom torch.optim import SGD\nfrom ksddescent import ksdd_lbfgs, ksdd_gradient\nfrom ksddescent.contenders import svgd, mmd_lbfgs\nimport matplotlib.pyplot as plt\nimport numpy as np\n\n\n\n\ndef score(x):\n    return - x / .3\n\n\ndef potential(x):\n    return (x ** 2).sum(dim=1)\n\n\ndef sampler(n_points):\n    return math.sqrt(.3) * torch.randn(n_points, 1)\n\n\nn_samples = 50\np = 2\n\nx = 1.5 + torch.randn(n_samples, p) / 3\n\nbw = .1\nx_ksd, ksd_traj, _ = ksdd_lbfgs(x.clone(), score, bw=bw, store=True)\nx_grad, grad_traj, _ = ksdd_gradient(x.clone(), score, .3,  bw=bw, store=True)\nx_svgd, svgd_traj, _ = svgd(x.clone(), score, .5, bw=bw, store=True, verbose=True)\nx_mmd, mmd_traj, _ = mmd_lbfgs(x.clone(), sampler(3 * n_samples), bw=bw, store=True)\n\nlabels = ['KSD L-BFGS', 'KSD Grad', 'SVGD', 'MMD']\nmethods = ['bfgs', 'grad', 'svgd', 'mmd']\ncolors = ['blue', 'purple', 'orange', 'red']\nfor x_final, traj, label, color, method in zip([x_ksd, x_grad, x_svgd, x_mmd],\n                                               [ksd_traj, grad_traj, svgd_traj, mmd_traj],\n                                               labels, colors, methods):\n    plt.figure(figsize = (2, 2))\n    traj = np.array([x.detach().numpy() for x in traj])\n    if method == 'mmd':\n        alpha = .2\n    else:\n        alpha = .2\n    plt.plot(traj[:, :, 0], traj[:, :, 1], c='k', alpha=alpha, linewidth=.5)\n    s = 3\n    plt.scatter(x[:, 0], x[:, 1], s=s, color='green', zorder=1)\n\n    x_final = x_final.detach()\n    plt.scatter(x_final[:, 0], x_final[:, 1], label=label, s=s, c=color, zorder=10)\n    plt.legend()\n\n    x_ = np.linspace(-1.2, 3)\n    y_ = np.linspace(-1.2, 3)\n    X, Y = np.meshgrid(x_, y_)\n    XX = torch.tensor(np.array([X.ravel(), Y.ravel()]).T)\n    Z = potential(XX).reshape(X.shape).detach().numpy()\n\n    plt.contour(X, Y, Z, levels=10, colors='k')\n    plt.tick_params(axis='both', which='both', bottom=False, top=False,\n                    labelbottom=False, left=False, right=False, labelleft=False)\n    plt.xlim(min(x_), max(x_))\n    plt.ylim(min(y_), max(y_))\nplt.show()"
      ]
    }
  ],
  "metadata": {
    "kernelspec": {
      "display_name": "Python 3",
      "language": "python",
      "name": "python3"
    },
    "language_info": {
      "codemirror_mode": {
        "name": "ipython",
        "version": 3
      },
      "file_extension": ".py",
      "mimetype": "text/x-python",
      "name": "python",
      "nbconvert_exporter": "python",
      "pygments_lexer": "ipython3",
      "version": "3.8.1"
    }
  },
  "nbformat": 4,
  "nbformat_minor": 0
}