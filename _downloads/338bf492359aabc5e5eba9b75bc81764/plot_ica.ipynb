{
  "cells": [
    {
      "cell_type": "code",
      "execution_count": null,
      "metadata": {
        "collapsed": false
      },
      "outputs": [],
      "source": [
        "%matplotlib inline"
      ]
    },
    {
      "cell_type": "markdown",
      "metadata": {},
      "source": [
        "\n# Bayesian Independent Component Analysis\n"
      ]
    },
    {
      "cell_type": "code",
      "execution_count": null,
      "metadata": {
        "collapsed": false
      },
      "outputs": [],
      "source": [
        "# Author: Pierre Ablin <pierre.ablin@ens.fr>\n#\n# License: MIT\n\nimport torch\nfrom ksddescent import ksdd_lbfgs\nfrom ksddescent.contenders import svgd\nimport matplotlib.pyplot as plt\nimport numpy as np\n\n\ndef amari_distance(W, A):\n    \"\"\"\n    Computes the Amari distance between two matrices W and A.\n    It cancels when WA is a permutation and scale matrix.\n    Parameters\n    ----------\n    W : ndarray, shape (n_features, n_features)\n        Input matrix\n    A : ndarray, shape (n_features, n_features)\n        Input matrix\n    Returns\n    -------\n    d : float\n        The Amari distance\n    \"\"\"\n    P = np.dot(W, A)\n\n    def s(r):\n        return np.sum(np.sum(r ** 2, axis=1) / np.max(r ** 2, axis=1) - 1)\n\n    return (s(np.abs(P)) + s(np.abs(P.T))) / (2 * P.shape[0])\n\n\ndef one_expe(n, p, sigma, bw, n_samples):\n    W = sigma * np.random.randn(p, p)\n    A = np.linalg.pinv(W)\n    S = np.random.laplace(size=(p, n))\n    X = np.dot(A, S)\n    X = torch.tensor(X, dtype=torch.float)\n\n    def score(w):\n        N, _ = w.shape\n        w_list = w.reshape(N, p, p)\n        z = w_list.matmul(X)\n        psi = torch.tanh(z).matmul(X.t()) / n - torch.inverse(\n            w_list\n        ).transpose(-1, -2)\n        sc = -psi - w_list / sigma\n        return sc.reshape(N, p ** 2)\n\n    x = torch.randn(n_samples, p ** 2)\n    x_final = ksdd_lbfgs(x.clone(), score, bw=bw)\n    x_svgd = svgd(x.clone(), score, 0.1, bw=bw, n_iter=3000)\n    score_svgd = torch.norm(score(x_svgd)).item()\n    score_final = torch.norm(score(x_final)).item()\n    score_random = torch.norm(score(x)).item()\n    w_list = (x_final.reshape(n_samples, p, p)).detach().numpy()\n    w_svgd = (x_svgd.reshape(n_samples, p, p)).detach().numpy()\n\n    amari_ksd = np.sort([amari_distance(w, A) for w in w_list])\n    amari_svgd = np.sort([amari_distance(w, A) for w in w_svgd])\n    amari_random = np.sort(\n        [amari_distance(np.random.randn(p, p), A) for w in w_svgd]\n    )\n    return (\n        amari_ksd,\n        amari_svgd,\n        amari_random,\n        score_final,\n        score_svgd,\n        score_random,\n    )\n\n\np_list = [2]\nn = 1000\nsigma = 1\nbw = 0.1\nn_samples = 10\n\nn_tries = 3\nd_save = {}\nfor p in p_list:\n    print(p)\n    d_save[p] = {}\n    amari_ksds = []\n    amari_svgds = []\n    amari_randoms = []\n    score_ksds = []\n    score_svgds = []\n    score_randoms = []\n    for i in range(n_tries):\n        (\n            amari_ksd,\n            amari_svgd,\n            amari_random,\n            score_ksd,\n            score_svgd,\n            score_random,\n        ) = one_expe(n, p, sigma, bw, n_samples)\n        amari_ksds.append(amari_ksd)\n        amari_svgds.append(amari_svgd)\n        amari_randoms.append(amari_random)\n        score_ksds.append(score_ksd)\n        score_svgds.append(score_svgd)\n        score_randoms.append(score_random)\n\nplt.figure()\nplt.plot(np.sort(np.ravel(amari_ksds)), label=\"ksd\")\nplt.plot(np.sort(np.ravel(amari_svgds)), label=\"svgd\")\nplt.plot(np.sort(np.ravel(amari_randoms)), label=\"random\")\nplt.yscale(\"log\")\nplt.legend()\nplt.show()"
      ]
    }
  ],
  "metadata": {
    "kernelspec": {
      "display_name": "Python 3",
      "language": "python",
      "name": "python3"
    },
    "language_info": {
      "codemirror_mode": {
        "name": "ipython",
        "version": 3
      },
      "file_extension": ".py",
      "mimetype": "text/x-python",
      "name": "python",
      "nbconvert_exporter": "python",
      "pygments_lexer": "ipython3",
      "version": "3.8.1"
    }
  },
  "nbformat": 4,
  "nbformat_minor": 0
}